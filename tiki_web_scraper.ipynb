{
 "cells": [
  {
   "cell_type": "code",
   "execution_count": 34,
   "metadata": {},
   "outputs": [],
   "source": [
    "# import libraries\n",
    "from bs4 import BeautifulSoup\n",
    "import requests\n",
    "import smtplib\n",
    "import time\n",
    "import datetime\n",
    "import csv\n"
   ]
  },
  {
   "cell_type": "code",
   "execution_count": 35,
   "metadata": {},
   "outputs": [],
   "source": [
    "URL = 'https://tiki.vn/apple-iphone-14-pro-max-p197216291.html?spid=197216310'\n",
    "\n",
    "headers = {\"User-Agent\": \"Mozilla/5.0 (Windows NT 10.0; Win64; x64) AppleWebKit/537.36 (KHTML, like Gecko) Chrome/116.0.0.0 Safari/537.36 OPR/102.0.0.0\"}\n",
    "\n",
    "page = requests.get(URL, headers = headers)\n",
    "\n",
    "soup1 = BeautifulSoup(page.content, \"html.parser\")\n",
    "\n",
    "soup2 = BeautifulSoup(soup1.prettify(), \"html.parser\")\n",
    "\n",
    "title = soup2.find(class_=\"Title__TitledStyled-sc-1kxsq5b-0 cvyKhs\").get_text()\n",
    "\n",
    "price = soup2.find(class_=\"product-price__current-price\").get_text()\n"
   ]
  },
  {
   "cell_type": "code",
   "execution_count": 36,
   "metadata": {},
   "outputs": [
    {
     "name": "stdout",
     "output_type": "stream",
     "text": [
      "Apple iPhone 14 Pro Max\n",
      "26.250.000\n"
     ]
    }
   ],
   "source": [
    "while \" \" in price:\n",
    "    price = price.replace(\" \", \"\")\n",
    "while \"\\n\" in price:\n",
    "    price = price.replace(\"\\n\", \"\")\n",
    "price = price.strip()[:len(price)-1]\n",
    "\n",
    "title = title.strip()\n",
    "\n",
    "print(title)\n",
    "print(price)"
   ]
  },
  {
   "cell_type": "code",
   "execution_count": 37,
   "metadata": {},
   "outputs": [
    {
     "name": "stdout",
     "output_type": "stream",
     "text": [
      "2023-10-04\n"
     ]
    }
   ],
   "source": [
    "today = datetime.date.today()\n",
    "print(today)"
   ]
  },
  {
   "cell_type": "code",
   "execution_count": 38,
   "metadata": {},
   "outputs": [],
   "source": [
    "header = ['Title', 'Price', 'Date']\n",
    "data = [title, price, today]"
   ]
  },
  {
   "cell_type": "code",
   "execution_count": 42,
   "metadata": {},
   "outputs": [],
   "source": [
    "# Appending data to the csv\n",
    "with open('TikiWebScraper.csv', 'a+', newline='', encoding='UTF8') as f:\n",
    "    writer = csv.writer(f)\n",
    "    writer.writerow(data)"
   ]
  },
  {
   "cell_type": "code",
   "execution_count": 45,
   "metadata": {},
   "outputs": [],
   "source": [
    "def check_price():\n",
    "    URL = 'https://tiki.vn/apple-iphone-14-pro-max-p197216291.html?spid=197216310'\n",
    "\n",
    "    headers = {\"User-Agent\": \"Mozilla/5.0 (Windows NT 10.0; Win64; x64) AppleWebKit/537.36 (KHTML, like Gecko) Chrome/116.0.0.0 Safari/537.36 OPR/102.0.0.0\"}\n",
    "\n",
    "    page = requests.get(URL, headers = headers)\n",
    "\n",
    "    soup1 = BeautifulSoup(page.content, \"html.parser\")\n",
    "\n",
    "    soup2 = BeautifulSoup(soup1.prettify(), \"html.parser\")\n",
    "\n",
    "    title = soup2.find(class_=\"Title__TitledStyled-sc-1kxsq5b-0 cvyKhs\").get_text()\n",
    "\n",
    "    price = soup2.find(class_=\"product-price__current-price\").get_text()\n",
    "    \n",
    "    while \" \" in price:\n",
    "        price = price.replace(\" \", \"\")\n",
    "    while \"\\n\" in price:\n",
    "        price = price.replace(\"\\n\", \"\")\n",
    "    price = price.strip()[:len(price)-1]\n",
    "\n",
    "    title = title.strip()\n",
    "    \n",
    "    today = datetime.date.today()\n",
    "    \n",
    "    header = ['Title', 'Price', 'Date']\n",
    "    data = [title, price, today]\n",
    "    \n",
    "    with open('TikiWebScraper.csv', 'a+', newline='', encoding='UTF8') as f:\n",
    "        writer = csv.writer(f)\n",
    "        writer.writerow(data)"
   ]
  },
  {
   "cell_type": "code",
   "execution_count": null,
   "metadata": {},
   "outputs": [],
   "source": [
    "while(True):\n",
    "    check_price()\n",
    "    time.sleep(5)"
   ]
  },
  {
   "cell_type": "code",
   "execution_count": 47,
   "metadata": {},
   "outputs": [
    {
     "data": {
      "text/html": [
       "<div>\n",
       "<style scoped>\n",
       "    .dataframe tbody tr th:only-of-type {\n",
       "        vertical-align: middle;\n",
       "    }\n",
       "\n",
       "    .dataframe tbody tr th {\n",
       "        vertical-align: top;\n",
       "    }\n",
       "\n",
       "    .dataframe thead th {\n",
       "        text-align: right;\n",
       "    }\n",
       "</style>\n",
       "<table border=\"1\" class=\"dataframe\">\n",
       "  <thead>\n",
       "    <tr style=\"text-align: right;\">\n",
       "      <th></th>\n",
       "      <th>Title</th>\n",
       "      <th>Price</th>\n",
       "      <th>Date</th>\n",
       "    </tr>\n",
       "  </thead>\n",
       "  <tbody>\n",
       "    <tr>\n",
       "      <th>0</th>\n",
       "      <td>Apple iPhone 14 Pro Max</td>\n",
       "      <td>26.250.000</td>\n",
       "      <td>2023-10-04</td>\n",
       "    </tr>\n",
       "    <tr>\n",
       "      <th>1</th>\n",
       "      <td>Apple iPhone 14 Pro Max</td>\n",
       "      <td>26.250.000</td>\n",
       "      <td>2023-10-04</td>\n",
       "    </tr>\n",
       "    <tr>\n",
       "      <th>2</th>\n",
       "      <td>Apple iPhone 14 Pro Max</td>\n",
       "      <td>26.250.000</td>\n",
       "      <td>2023-10-04</td>\n",
       "    </tr>\n",
       "    <tr>\n",
       "      <th>3</th>\n",
       "      <td>Apple iPhone 14 Pro Max</td>\n",
       "      <td>26.250.000</td>\n",
       "      <td>2023-10-04</td>\n",
       "    </tr>\n",
       "    <tr>\n",
       "      <th>4</th>\n",
       "      <td>Apple iPhone 14 Pro Max</td>\n",
       "      <td>26.250.000</td>\n",
       "      <td>2023-10-04</td>\n",
       "    </tr>\n",
       "    <tr>\n",
       "      <th>5</th>\n",
       "      <td>Apple iPhone 14 Pro Max</td>\n",
       "      <td>26.250.000</td>\n",
       "      <td>2023-10-04</td>\n",
       "    </tr>\n",
       "    <tr>\n",
       "      <th>6</th>\n",
       "      <td>Apple iPhone 14 Pro Max</td>\n",
       "      <td>26.250.000</td>\n",
       "      <td>2023-10-04</td>\n",
       "    </tr>\n",
       "    <tr>\n",
       "      <th>7</th>\n",
       "      <td>Apple iPhone 14 Pro Max</td>\n",
       "      <td>26.250.000</td>\n",
       "      <td>2023-10-04</td>\n",
       "    </tr>\n",
       "    <tr>\n",
       "      <th>8</th>\n",
       "      <td>Apple iPhone 14 Pro Max</td>\n",
       "      <td>26.250.000</td>\n",
       "      <td>2023-10-04</td>\n",
       "    </tr>\n",
       "  </tbody>\n",
       "</table>\n",
       "</div>"
      ],
      "text/plain": [
       "                     Title       Price        Date\n",
       "0  Apple iPhone 14 Pro Max  26.250.000  2023-10-04\n",
       "1  Apple iPhone 14 Pro Max  26.250.000  2023-10-04\n",
       "2  Apple iPhone 14 Pro Max  26.250.000  2023-10-04\n",
       "3  Apple iPhone 14 Pro Max  26.250.000  2023-10-04\n",
       "4  Apple iPhone 14 Pro Max  26.250.000  2023-10-04\n",
       "5  Apple iPhone 14 Pro Max  26.250.000  2023-10-04\n",
       "6  Apple iPhone 14 Pro Max  26.250.000  2023-10-04\n",
       "7  Apple iPhone 14 Pro Max  26.250.000  2023-10-04\n",
       "8  Apple iPhone 14 Pro Max  26.250.000  2023-10-04"
      ]
     },
     "execution_count": 47,
     "metadata": {},
     "output_type": "execute_result"
    }
   ],
   "source": [
    "import pandas as pd\n",
    "pd.read_csv('TikiWebScraper.csv')"
   ]
  }
 ],
 "metadata": {
  "kernelspec": {
   "display_name": "Python 3",
   "language": "python",
   "name": "python3"
  },
  "language_info": {
   "codemirror_mode": {
    "name": "ipython",
    "version": 3
   },
   "file_extension": ".py",
   "mimetype": "text/x-python",
   "name": "python",
   "nbconvert_exporter": "python",
   "pygments_lexer": "ipython3",
   "version": "3.11.5"
  },
  "orig_nbformat": 4
 },
 "nbformat": 4,
 "nbformat_minor": 2
}
